{
 "cells": [
  {
   "cell_type": "markdown",
   "id": "a99c5984",
   "metadata": {},
   "source": [
    "## Matrixmultiplikation mit Zeilen oder mit Spalten"
   ]
  },
  {
   "cell_type": "markdown",
   "id": "a27180a8",
   "metadata": {},
   "source": [
    "### Am Beispiel"
   ]
  },
  {
   "cell_type": "code",
   "execution_count": 6,
   "id": "58bd755f",
   "metadata": {},
   "outputs": [
    {
     "data": {
      "image/png": "[encoded data removed]",
      "text/latex": [
       "$\\displaystyle \\left[\\begin{matrix}1 & 2 & 3 & 4\\\\5 & 6 & 7 & 8\\\\9 & 10 & 11 & 12\\\\13 & 14 & 15 & 16\\end{matrix}\\right]$"
      ],
      "text/plain": [
       "⎡1   2   3   4 ⎤\n",
       "⎢              ⎥\n",
       "⎢5   6   7   8 ⎥\n",
       "⎢              ⎥\n",
       "⎢9   10  11  12⎥\n",
       "⎢              ⎥\n",
       "⎣13  14  15  16⎦"
      ]
     },
     "execution_count": 6,
     "metadata": {},
     "output_type": "execute_result"
    }
   ],
   "source": [
    "# imports\n",
    "import sympy as sp\n",
    "sp.init_printing()\n",
    "from sympy import *\n",
    "from sympy.matrices import Matrix, eye, zeros, ones, diag, GramSchmidt\n",
    "\n",
    "i1 = symbols(\"i1\")\n",
    "i2 = symbols(\"i2\")\n",
    "i3 = symbols(\"i3\")\n",
    "i4 = symbols(\"i4\")\n",
    "A = Matrix([[1, 2, 3, 4], [5, 6, 7, 8], [9, 10, 11, 12], [13, 14, 15, 16]])\n",
    "A"
   ]
  },
  {
   "cell_type": "markdown",
   "id": "33f9333c",
   "metadata": {},
   "source": [
    "Matrix mal Einheits-Spaltenvektor = Spaltenvektor"
   ]
  },
  {
   "cell_type": "code",
   "execution_count": 7,
   "id": "542f792f",
   "metadata": {},
   "outputs": [
    {
     "data": {
      "image/png": "[encoded data removed]",
      "text/latex": [
       "$\\displaystyle \\left[\\begin{matrix}2\\\\6\\\\10\\\\14\\end{matrix}\\right]$"
      ],
      "text/plain": [
       "⎡2 ⎤\n",
       "⎢  ⎥\n",
       "⎢6 ⎥\n",
       "⎢  ⎥\n",
       "⎢10⎥\n",
       "⎢  ⎥\n",
       "⎣14⎦"
      ]
     },
     "execution_count": 7,
     "metadata": {},
     "output_type": "execute_result"
    }
   ],
   "source": [
    "i = Matrix(4, 1, [0, 1, 0, 0])\n",
    "A*i"
   ]
  },
  {
   "cell_type": "markdown",
   "id": "d34fc076",
   "metadata": {},
   "source": [
    "Einheits-Zeilenvektor mal Matrix = Zeilenvektor"
   ]
  },
  {
   "cell_type": "code",
   "execution_count": 8,
   "id": "85082234",
   "metadata": {},
   "outputs": [
    {
     "data": {
      "image/png": "[encoded data removed]",
      "text/latex": [
       "$\\displaystyle \\left[\\begin{matrix}5 & 6 & 7 & 8\\end{matrix}\\right]$"
      ],
      "text/plain": [
       "[5  6  7  8]"
      ]
     },
     "execution_count": 8,
     "metadata": {},
     "output_type": "execute_result"
    }
   ],
   "source": [
    "i.T*A"
   ]
  },
  {
   "cell_type": "code",
   "execution_count": null,
   "id": "cc8d210e",
   "metadata": {},
   "outputs": [],
   "source": []
  }
 ],
 "metadata": {
  "kernelspec": {
   "display_name": "Python 3 (ipykernel)",
   "language": "python",
   "name": "python3"
  },
  "language_info": {
   "codemirror_mode": {
    "name": "ipython",
    "version": 3
   },
   "file_extension": ".py",
   "mimetype": "text/x-python",
   "name": "python",
   "nbconvert_exporter": "python",
   "pygments_lexer": "ipython3",
   "version": "3.9.7"
  }
 },
 "nbformat": 4,
 "nbformat_minor": 5
}
