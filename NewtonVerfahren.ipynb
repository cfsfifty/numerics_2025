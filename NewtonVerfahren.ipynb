{
 "cells": [
  {
   "cell_type": "markdown",
   "metadata": {},
   "source": [
    "## Beispielfunktion: $f(x)=x^2-x-1$, $x_0=0$"
   ]
  },
  {
   "cell_type": "markdown",
   "metadata": {},
   "source": [
    "## Newton Verfahren"
   ]
  },
  {
   "cell_type": "code",
   "execution_count": 55,
   "metadata": {},
   "outputs": [
    {
     "data": {
      "image/png": "[encoded data removed]",
      "text/plain": [
       "<Figure size 432x288 with 1 Axes>"
      ]
     },
     "metadata": {
      "needs_background": "light"
     },
     "output_type": "display_data"
    }
   ],
   "source": [
    "import math\n",
    "import numpy as np              # array Funktionen\n",
    "import matplotlib.pyplot as plt # plot Funktionen\n",
    "\n",
    "x = np.arange(-2, 2, 0.02) # x-Werte\n",
    "y = x**2-x-1               # Zugehörige y-Werte der Wertetabelle\n",
    "dy= 2*x-1\n",
    "plt.plot(x, y, 'g-')       # Plot der Wertetabelle\n",
    "\n",
    "x0=0\n",
    "x1=x0-(x0**2-x0-1)/(2*x0-1)\n",
    "dy0 = -1\n",
    "yt  = -1*(x)-1\n",
    "plt.plot(x, yt, 'b-')      # Plot der Wertetabelle\n",
    "plt.plot([x0], [x0**2-x0-1], 'b.')\n",
    "plt.plot([x0, x0], [x0**2-x0-1, 0], 'b--') \n",
    "\n",
    "plt.plot([x1], [0], 'b.')\n",
    "plt.plot([x1], [x1**2-x1-1], 'b.')\n",
    "plt.plot([x1, x1], [x1**2-x1-1, 0], 'b--') \n",
    "#plt.plot( [0, 0], [-2, 2], 'k-') \n",
    "plt.plot([-2, 2], [0,  0], 'k-') \n",
    "plt.axis([-2, 2, -2, 2])\n",
    "plt.show()"
   ]
  },
  {
   "cell_type": "code",
   "execution_count": 59,
   "metadata": {},
   "outputs": [
    {
     "name": "stdout",
     "output_type": "stream",
     "text": [
      "i= \tx_i= \t\t\tf_i= \t\t\tr_i=\n",
      "0 \t0.0000000000000000 \t-1.0000000000000000 \t0.6180339887498947\n",
      "1 \t-1.0000000000000000 \t1.0000000000000000 \t0.3090169943749476\n",
      "2 \t-0.5000000000000000 \t-0.2500000000000000 \t0.4120226591665956\n",
      "3 \t-0.6666666666666666 \t0.1111111111111112 \t0.3708203932499415\n",
      "4 \t-0.5999999999999999 \t-0.0400000000000003 \t0.3862712429686773\n",
      "5 \t-0.6250000000000000 \t0.0156250000000000 \t0.3803286084614796\n",
      "6 \t-0.6153846153846154 \t-0.0059171597633135 \t0.3825924692261100\n",
      "7 \t-0.6190476190476191 \t0.0022675736961451 \t0.3817268754043872\n",
      "8 \t-0.6176470588235294 \t-0.0008650519031141 \t0.3820573748633614\n",
      "9 \t-0.6181818181818182 \t0.0003305785123966 \t0.3819311166432957\n",
      "10 \t-0.6179775280898877 \t-0.0001262466860243 \t0.3819793402685869\n",
      "11 \t-0.6180555555555556 \t0.0000482253086420 \t0.3819609200863413\n",
      "12 \t-0.6180257510729614 \t-0.0000184199377404 \t0.3819679559015968\n",
      "13 \t-0.6180371352785146 \t0.0000070358617874 \t0.3819652684567305\n",
      "14 \t-0.6180327868852460 \t-0.0000026874496102 \t0.3819662949007375\n",
      "15 \t-0.6180344478216818 \t0.0000010265159329 \t0.3819659029158854\n",
      "[0.6180339887498947, 0.3090169943749476, 0.4120226591665956, 0.3708203932499415, 0.38627124296867726, 0.3803286084614796, 0.38259246922610995, 0.38172687540438716, 0.3820573748633614, 0.3819311166432957, 0.3819793402685869, 0.3819609200863413, 0.3819679559015968, 0.3819652684567305, 0.3819662949007375, 0.38196590291588545]\n"
     ]
    }
   ],
   "source": [
    "import math\n",
    "\n",
    "i    = 0\n",
    "x_i  = 0.0\n",
    "here = math.inf\n",
    "a  = 0.5*(1-5**0.5) # Nullstelle\n",
    "f  = lambda x: x**2-x-1\n",
    "r  = list()\n",
    "print(\"i=\", \"\\tx_i=\", \"\\t\\t\\tf_i=\", \"\\t\\t\\tr_i=\")\n",
    "while (math.fabs(f(x_i)) > 1e-6):\n",
    "    df   = 2*x_i-x_i-1\n",
    "    x_ii = x_i - f(x_i)/df\n",
    "    r.append(math.fabs((x_ii-a)/(x_i-a)) if math.fabs(x_i-a) > 1e-16 else math.inf)\n",
    "    print((\"%d\" % (i)), (\"\\t%0.16f\" % (x_i)), (\"\\t%0.16f\" % (f(x_i))), (\"\\t%0.16f\" % (r[-1])))\n",
    "    last = here\n",
    "    here = math.fabs(x_ii-x_i)\n",
    "    x_i  = x_ii\n",
    "    i   += 1\n",
    "    \n",
    "    if (here >= last): # (x_i) divergiert\n",
    "        break\n",
    "\n",
    "#o = [math.log(r[i])/math.log(r[i-1]) if r[i-1]>0 and math.log(r[i-1])!=0.0 else 0 for i in range(1, len(r))]\n",
    "print(r)"
   ]
  },
  {
   "cell_type": "markdown",
   "metadata": {},
   "source": [
    "### Abbruchbedingung\n",
    "\n",
    "Funktionswert \n",
    "$$ | f(x_i) | \\leq \\text{1e-6} $$"
   ]
  },
  {
   "cell_type": "markdown",
   "metadata": {},
   "source": [
    "### Messung der Konvergenzrate\n",
    "\n",
    "Fehler gleich Abstand zur Nullstelle: $e_i := |x_i-a|$. Vergleichen aufeinanderfolgende Fehler $e_i$, \n",
    "$e_{i} = r_{i}\\cdot e_{i-1}$.\n",
    "\n",
    "Dann *Konvergenzfaktor*, *Konvergenzrate* $r_i$: \n",
    "$$ r_{i} = \\frac{e_{i}}{e_{i-1}} $$\n",
    "\n",
    "Dann *Konvergenzordnung* $o_i$: \n",
    "$$ e_{i} = e_{i-1}^{o_i}, o_i = \\frac{\\log e_i}{\\log e_{i-1}} $$"
   ]
  },
  {
   "cell_type": "markdown",
   "metadata": {},
   "source": [
    "## Regula Falsi"
   ]
  },
  {
   "cell_type": "code",
   "execution_count": 58,
   "metadata": {},
   "outputs": [
    {
     "name": "stdout",
     "output_type": "stream",
     "text": [
      "i= \tx_i= \t\t\tf_i= \t\t\tr_i=\n",
      "0 \t-0.5000000000000000 \t-0.2500000000000000 \t3.2360679774997876\n",
      "1 \t-0.6000000000000000 \t-0.0400000000000000 \t21.1803398874988567\n",
      "2 \t-0.6153846153846154 \t-0.0059171597633135 \t144.1722092687420513\n",
      "3 \t-0.6176470588235294 \t-0.0008650519031141 \t987.1710230273814659\n",
      "4 \t-0.6179775280898876 \t-0.0001262466860246 \t6765.1708499452906835\n",
      "5 \t-0.6180257510729613 \t-0.0000184199377408 \t46368.1708240762673086\n",
      "6 \t-0.6180327868852459 \t-0.0000026874496104 \t317811.1708002091618255\n",
      "7 \t-0.6180338134001252 \t-0.0000003920939740 \t2178309.1696905475109816\n",
      "[3.2360679774997876, 21.180339887498857, 144.17220926874205, 987.1710230273815, 6765.170849945291, 46368.17082407627, 317811.17080020916, 2178309.1696905475]\n"
     ]
    }
   ],
   "source": [
    "import math\n",
    "\n",
    "x_i  = 0.0\n",
    "x_ii = -1.0\n",
    "a  = 0.5*(1-5**0.5) # Nullstelle\n",
    "f  = lambda x: x**2-x-1\n",
    "r  = list()\n",
    "print(\"i=\", \"\\tx_i=\", \"\\t\\t\\tf_i=\", \"\\t\\t\\tr_i=\")\n",
    "i = 0\n",
    "while (math.fabs(f(x_i)) > 1e-6):\n",
    "    assert(f(x_i)*f(x_ii) <= 0.0) # f(x_i), f(x_ii) verschiedenes Vorzeichen, also Intervall enthält Null\n",
    "    df = (f(x_ii)-f(x_i))/(x_ii-x_i)\n",
    "    # f(x_i)+df*(x-x_i) == 0\n",
    "    x_new = x_i-f(x_i)/df\n",
    "    if f(x_new)*f(x_i) >= 0.0: # f(x_new), f(x_i) gleiches Vorzeichen\n",
    "        x_i = x_new\n",
    "    else:                      # f(x_new), f(x_ii) gleiches Vorzeichen\n",
    "        x_ii = x_new\n",
    "        \n",
    "    r.append(math.fabs((x_ii-a)/(x_i-a)) if math.fabs(x_i-a) > 1e-16 else math.inf)\n",
    "    print((\"%d\" % (i)), (\"\\t%0.16f\" % (x_i)), (\"\\t%0.16f\" % (f(x_i))), (\"\\t%0.16f\" % (r[-1])))\n",
    "    i += 1\n",
    "\n",
    "#o = [math.log(r[i])/math.log(r[i-1]) if r[i-1]>0 and math.log(r[i-1])!=0.0 else 0 for i in range(1, len(r))]\n",
    "print(r)"
   ]
  },
  {
   "cell_type": "markdown",
   "metadata": {},
   "source": [
    "Wir sehen: \n",
    "\n",
    "Regula Falsi konvergiert hier sehr viel schneller. Es wird die Hälfte der Iterationen bis zu Funktionswert kleiner gleich $\\text{1e-6}$ benötigt."
   ]
  },
  {
   "cell_type": "code",
   "execution_count": null,
   "metadata": {},
   "outputs": [],
   "source": []
  }
 ],
 "metadata": {
  "kernelspec": {
   "display_name": "Python 3 (ipykernel)",
   "language": "python",
   "name": "python3"
  },
  "language_info": {
   "codemirror_mode": {
    "name": "ipython",
    "version": 3
   },
   "file_extension": ".py",
   "mimetype": "text/x-python",
   "name": "python",
   "nbconvert_exporter": "python",
   "pygments_lexer": "ipython3",
   "version": "3.9.7"
  }
 },
 "nbformat": 4,
 "nbformat_minor": 2
}
